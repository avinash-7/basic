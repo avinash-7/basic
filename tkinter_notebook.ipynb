{
 "cells": [
  {
   "cell_type": "code",
   "execution_count": 2,
   "metadata": {},
   "outputs": [
    {
     "name": "stdout",
     "output_type": "stream",
     "text": [
      "you just pressed the button\n"
     ]
    }
   ],
   "source": [
    "import tkinter\n",
    "window=tkinter.Tk()\n",
    "window.title(\"heloo\")\n",
    "def buttton():\n",
    "    print(\"you just pressed the button\")\n",
    "btn1=tkinter.Button(text=\"sample button\",fg='green',bg='yellow',relief=\"raised\",command=buttton).grid(row=0,column=0)\n",
    "entry1=tkinter.Entry(fg='yellow',bg='green').grid(row=0,column=1)\n",
    "window.mainloop()"
   ]
  },
  {
   "cell_type": "code",
   "execution_count": 1,
   "metadata": {},
   "outputs": [],
   "source": [
    "from tkinter import *\n",
    "master = Tk()\n",
    "master.geometry(\"200x200\")\n",
    "def openNewWindow():\n",
    "# Toplevel object which will be treated as a new window\n",
    "    newWindow = Toplevel(master)\n",
    "    newWindow.title(\"New Window\")\n",
    "    newWindow.geometry(\"200x200\")\n",
    "    Label(newWindow, text =\"This is a new window\").pack()\n",
    "\n",
    "label = Label(master,text =\"This is the main window\")\n",
    "label.pack(pady = 10)\n",
    "btn = Button(master,text =\"Click to open a new window\", command = openNewWindow)\n",
    "btn.pack(pady = 10)\n",
    "mainloop()"
   ]
  },
  {
   "cell_type": "code",
   "execution_count": 3,
   "metadata": {},
   "outputs": [
    {
     "name": "stdout",
     "output_type": "stream",
     "text": [
      "no\n"
     ]
    }
   ],
   "source": [
    "import tkinter\n",
    "import tkinter.messagebox\n",
    "window = tkinter.Tk()\n",
    "window.title(\"GUI\")\n",
    "\n",
    "# creating a simple alert box\n",
    "\n",
    "tkinter.messagebox.showinfo(\"Alert Message\", \"This is just a alert message!\")\n",
    "response = tkinter.messagebox.askquestion(\"Simple Question\", \"Do you love Python?\")\n",
    "print(response)\n",
    "# If user clicks 'Yes' then it returns 1 else it returns 0\n",
    "if response == 'yes':\n",
    "\n",
    "    tkinter.Label(window, text = \"You love Python!\").pack()\n",
    "\n",
    "else:\n",
    "\n",
    "    tkinter.Label(window,text=\"why you dont love python\").pack()\n",
    "    \n",
    "    \n",
    "\n",
    "window.mainloop()"
   ]
  },
  {
   "cell_type": "code",
   "execution_count": 10,
   "metadata": {},
   "outputs": [
    {
     "name": "stdout",
     "output_type": "stream",
     "text": [
      "\n"
     ]
    }
   ],
   "source": [
    "import tkinter as tk\n",
    "from tkinter import ttk\n",
    "\n",
    "app = tk.Tk()\n",
    "app.geometry('200x100')\n",
    "labelTop = tk.Label(app, text = \"Choose your favourite month\")\n",
    "labelTop.grid(column=0, row=0)\n",
    "comboExample = ttk.Combobox(app,values=[\n",
    "                \"January\",\n",
    "                \"February\",\n",
    "                \"March\",\n",
    "                \"April\"])\n",
    "\n",
    "comboExample.grid(column=0, row=1)\n",
    "comboExample.current()\n",
    "\n",
    "print(comboExample.get())\n",
    "app.mainloop()"
   ]
  },
  {
   "cell_type": "code",
   "execution_count": 8,
   "metadata": {},
   "outputs": [],
   "source": [
    "import tkinter as tk\n",
    "from tkinter import ttk\n",
    "def callbackFunc(event):\n",
    "    print(\"New Element Selected\")\n",
    "app = tk.Tk()\n",
    "app.geometry('400x300')\n",
    "labelTop = tk.Label(app,text = \"Choose your favourite month\")\n",
    "\n",
    "labelTop.grid(column=0, row=0)\n",
    "comboExample = ttk.Combobox(app,\n",
    "\n",
    "values=[\n",
    "\"January\",\n",
    "\"February\",\n",
    "\"March\",\n",
    "\"April\"])\n",
    "\n",
    "comboExample.grid(column=0, row=1)\n",
    "comboExample.current()\n",
    "comboExample.bind(\"<<ComboboxSelected>>\", callbackFunc)\n",
    "app.mainloop()"
   ]
  },
  {
   "cell_type": "code",
   "execution_count": 3,
   "metadata": {},
   "outputs": [
    {
     "name": "stdout",
     "output_type": "stream",
     "text": [
      "hello, getting out of here\n"
     ]
    },
    {
     "ename": "SystemExit",
     "evalue": "",
     "output_type": "error",
     "traceback": [
      "An exception has occurred, use %tb to see the full traceback.\n",
      "\u001b[1;31mSystemExit\u001b[0m\n"
     ]
    },
    {
     "name": "stderr",
     "output_type": "stream",
     "text": [
      "C:\\Users\\Avinash\\anaconda3\\lib\\site-packages\\IPython\\core\\interactiveshell.py:3339: UserWarning: To exit: use 'exit', 'quit', or Ctrl-D.\n",
      "  warn(\"To exit: use 'exit', 'quit', or Ctrl-D.\", stacklevel=1)\n"
     ]
    }
   ],
   "source": [
    "import tkinter as tk\n",
    "from tkinter import *\n",
    "def quit():\n",
    "    print('hello, getting out of here')\n",
    "    import sys\n",
    "    sys.exit()\n",
    "    \n",
    "window=tk.Tk()\n",
    "Button(window,text='press me',command=quit).pack()\n",
    "window.mainloop()"
   ]
  },
  {
   "cell_type": "code",
   "execution_count": 1,
   "metadata": {},
   "outputs": [
    {
     "name": "stdout",
     "output_type": "stream",
     "text": [
      "double click to exit\n"
     ]
    }
   ],
   "source": [
    "#binding the events \n",
    "\n",
    "import tkinter as tk\n",
    "from tkinter import *\n",
    "def hello(event):\n",
    "    print(\"double click to exit\")\n",
    "def quit(event):\n",
    "    print('caught a double click so leaving')\n",
    "    import sys; sys.exit()\n",
    "widget=Button(None,text=\"hello event world\")\n",
    "widget.pack()\n",
    "widget.bind('<Button-1>',hello)\n",
    "widget.bind('<Double-1>',quit)\n",
    "widget.mainloop()"
   ]
  },
  {
   "cell_type": "code",
   "execution_count": 3,
   "metadata": {},
   "outputs": [
    {
     "name": "stdout",
     "output_type": "stream",
     "text": [
      "new text\n"
     ]
    }
   ],
   "source": [
    "# updating the text variable\n",
    "from tkinter import *\n",
    "root=Tk()\n",
    "v=StringVar()\n",
    "label=Label(root,textvariable=v).pack()\n",
    "v.set(\"new text\")\n",
    "print(v.get())\n",
    "root.mainloop()"
   ]
  },
  {
   "cell_type": "code",
   "execution_count": 39,
   "metadata": {},
   "outputs": [
    {
     "name": "stdout",
     "output_type": "stream",
     "text": [
      "ok\n"
     ]
    }
   ],
   "source": [
    "#displaying a messagebox when we press the button in tkinter window\n",
    "from tkinter import *\n",
    "import tkinter.messagebox as tkm\n",
    "\n",
    "top = tkinter.Tk()\n",
    "def helloCallBack(*arg):\n",
    "    a=tkm.showwarning(\"Hello Python\",\"fuck off\")\n",
    "    print(a)\n",
    "B = tkinter.Button(top, text =\"Hello\", command = helloCallBack)\n",
    "B.pack()\n",
    "\n",
    "B.place(bordermode=OUTSIDE, height=100, width=100)\n",
    "top.mainloop()"
   ]
  },
  {
   "cell_type": "code",
   "execution_count": 24,
   "metadata": {},
   "outputs": [
    {
     "name": "stdout",
     "output_type": "stream",
     "text": [
      "avinas\n",
      "<class 'str'>\n",
      "['avinas']\n"
     ]
    }
   ],
   "source": [
    "# getting input from a entry box\n",
    "\n",
    "from tkinter import *\n",
    "master = Tk()\n",
    "lst=[]\n",
    "e = Entry(master)\n",
    "e.pack()\n",
    "def callback():\n",
    "    print(e.get())\n",
    "    print(type(e.get()))\n",
    "    lst.append(e.get())\n",
    "    print(lst)\n",
    "    e.delete(0,'end')\n",
    "    \n",
    "def quit():\n",
    "    master.quit()\n",
    "    \n",
    "b = Button(master, text=\"get\", width=10, command=callback)\n",
    "b.pack()\n",
    "c= Button(master,text=\"quit\",width=10,command=quit).pack()\n",
    "mainloop()"
   ]
  },
  {
   "cell_type": "code",
   "execution_count": null,
   "metadata": {},
   "outputs": [],
   "source": []
  }
 ],
 "metadata": {
  "kernelspec": {
   "display_name": "Python 3",
   "language": "python",
   "name": "python3"
  },
  "language_info": {
   "codemirror_mode": {
    "name": "ipython",
    "version": 3
   },
   "file_extension": ".py",
   "mimetype": "text/x-python",
   "name": "python",
   "nbconvert_exporter": "python",
   "pygments_lexer": "ipython3",
   "version": "3.7.6"
  }
 },
 "nbformat": 4,
 "nbformat_minor": 4
}
